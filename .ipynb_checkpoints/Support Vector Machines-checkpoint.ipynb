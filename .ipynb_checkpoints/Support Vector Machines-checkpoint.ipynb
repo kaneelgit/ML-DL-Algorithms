{
 "cells": [
  {
   "cell_type": "markdown",
   "id": "55d506a3",
   "metadata": {},
   "source": [
    "<center> <b><font size = '5'> Support Vector Machines </b> </font> </center>\n",
    "\n",
    "All figure credits to - https://www.cs.cornell.edu/courses/cs4780/2018fa/lectures/lecturenote09.html"
   ]
  },
  {
   "cell_type": "code",
   "execution_count": 1,
   "id": "cbe8925b",
   "metadata": {},
   "outputs": [],
   "source": [
    "import numpy \n",
    "import matplotlib.pyplot as plt\n",
    "import warnings\n",
    "warnings.filterwarnings('ignore')"
   ]
  },
  {
   "attachments": {
    "Capture.PNG": {
     "image/png": "[encoded data removed]"
    }
   },
   "cell_type": "markdown",
   "id": "67afc163",
   "metadata": {},
   "source": [
    "<u> <font size = '5'> Binary classification </font> </u>\n",
    "\n",
    "In a binary classification problem, we are attempting to mathematically find a way to assign a data point to a certain class. In the figure below, there are two classes (squares & circles). In order to find a method to classify each point to a class, we can define a line seperating these two classes (solid line) and assign each sample based on the side it is on.\n",
    "\n",
    "![Capture.PNG](attachment:Capture.PNG)\n",
    "\n",
    "In the figure above the solid line seperating the two categories represents a margin. In mathematical terms, this is called a hyperplane. In 2D space a hyperplane is a line. In 3D space, a hyperplane is a 2D plane. (This extends to higher demensions as well). \n",
    "\n",
    "The solid line represents only one hyperplane out of infinite hyperplanes that could seperate the two categories in the above figure. Hence the goal of the algorithm, <b> Support Vector Machines </b>, is to find the best seperating hyperplane. This is the one that maximizes the distance to the closest data points from both classes.  "
   ]
  },
  {
   "attachments": {
    "margin.PNG": {
     "image/png": "[encoded data removed]"
    }
   },
   "cell_type": "markdown",
   "id": "48b27a2a",
   "metadata": {},
   "source": [
    "\n",
    "\n",
    "Before talking about the Support Vector Machines, we will first define what a margin is. (For simplicity, the example below is done in 2D space. Note that this also extend towards higher dimensions)\n",
    "\n",
    "<u> <font size = '5'> Margin </font> </u>\n",
    "\n",
    "The margin is defined as the distance from the closest point accross the two classes to the hyperplane. In order to find the margin we will then have to calculate the distances between all the data points and choose the smallest.\n",
    "\n",
    "Let's take the following example where we try to calculate the smallest distance $d$ from some point $x$ to the hyperplane $H$. Let $x^P$ be the projection of $x$ on to $H$. We will represent the hyperplane $H$ by vector $w$.\n",
    "\n",
    "![margin.PNG](attachment:margin.PNG)\n",
    "\n",
    "We can then calculate $x^P$.\n",
    "$$x^P = x - d $$\n",
    "\n",
    "Since $d$ is parrelel to $w$ (note that the smallest distance from $x$ to $H$ has to be a perpendicular line from $H$ to $x$),\n",
    "$$d = \\alpha w$$ where $\\alpha$ is some real number \n",
    "\n",
    "\n",
    "In 2D space, a hyperplane is defined by a line.\n",
    "$$H = w^Tx + b $$\n",
    "\n",
    "Now since $x^P$ is on $H$, \n",
    "$$ w^T x^P + b = 0$$\n",
    "\n",
    "We can then substitute $x^P$ and get the value for $d$. (You can find the full steps <a href = ''> here </a>)\n",
    "$$ d = \\frac{|w^Tx + b|}{||w||}$$\n",
    "\n",
    "<u> <font size = '5'> Plotting the distance </font> </u>\n",
    "\n",
    "Here, I'm using the above equations to calculate the margin given a data point and a hyperplane in 2D space."
   ]
  },
  {
   "cell_type": "code",
   "execution_count": 2,
   "id": "190e7498",
   "metadata": {},
   "outputs": [],
   "source": [
    "from ipywidgets import interact, interactive\n",
    "import numpy as np\n",
    "import matplotlib.pyplot as plt\n",
    "\n",
    "#first scatter point\n",
    "def plot_distance(a,  b, x1 = 0, y1 = 3):\n",
    "    \n",
    "    #vector w\n",
    "    w = np.array([[a], [-1]])\n",
    "    \n",
    "    #vector x\n",
    "    x = np.array([x1, y1]).reshape(2, -1)\n",
    "    \n",
    "    #calculate the perpendicular distance between the point (x1, y1) and the hyperplane\n",
    "    d = np.abs(np.dot(np.transpose(w), x) + b)/np.linalg.norm(w)\n",
    "    \n",
    "    #alpha \n",
    "    alpha = (np.dot(np.transpose(w), x) + b)/(np.transpose(w) @ w)\n",
    "    #location of x_p\n",
    "    origin = x - alpha * w\n",
    "    \n",
    "    #plot the figure\n",
    "    plt.figure(figsize = (6, 6))\n",
    "    x = np.linspace(-10, 10, num=1000)\n",
    "    plt.scatter(x1, y1, s = 50, color = 'r')\n",
    "    plt.plot(x, a * x + b)\n",
    "    plt.plot([x1, origin[0,:]],[y1, origin[1,:]], color = 'red')\n",
    "    plt.ylim(-8, 8)\n",
    "    plt.xlim(-8, 8)\n",
    "    plt.annotate(f'Distance: {np.round(d[0][0],3)}', xy = (-4, 6), fontsize = 18)\n",
    "    plt.show()\n",
    "\n",
    "interactive_plot = interactive(plot_distance, a = (-2.0, 2.0), b = (-5, 5, 0.5), x1 = (-10, 10, 0.5), y1 = (-5, 5, 0.5))"
   ]
  },
  {
   "cell_type": "code",
   "execution_count": 3,
   "id": "73386d7b",
   "metadata": {},
   "outputs": [
    {
     "data": {
      "application/vnd.jupyter.widget-view+json": {
       "model_id": "6274b55981ad4fd5b155c22d27f2377a",
       "version_major": 2,
       "version_minor": 0
      },
      "text/plain": [
       "interactive(children=(FloatSlider(value=0.0, description='a', max=2.0, min=-2.0), FloatSlider(value=0.0, descr…"
      ]
     },
     "metadata": {},
     "output_type": "display_data"
    }
   ],
   "source": [
    "interactive_plot"
   ]
  },
  {
   "cell_type": "markdown",
   "id": "86c17802",
   "metadata": {},
   "source": [
    "In the above interactive plot you can see how the margin changes when the hyperplane and the data point changes. \n",
    "\n",
    "The margin is defined by the distance from the closest data point to the hyperplane. Let's plot this now. "
   ]
  },
  {
   "cell_type": "code",
   "execution_count": 4,
   "id": "27ddceb9",
   "metadata": {},
   "outputs": [
    {
     "data": {
      "application/vnd.jupyter.widget-view+json": {
       "model_id": "105478cedf20484cb05cc8ed2647da2f",
       "version_major": 2,
       "version_minor": 0
      },
      "text/plain": [
       "interactive(children=(FloatSlider(value=0.0, description='x1', max=2.0, min=-2.0), FloatSlider(value=5.0, desc…"
      ]
     },
     "metadata": {},
     "output_type": "display_data"
    }
   ],
   "source": [
    "#first scatter point\n",
    "def plot_margin(x1 = 0, y1 = 5, x2 = 0, y2 = -3):\n",
    "    \n",
    "    #define the line\n",
    "    a = 1\n",
    "    b = 0\n",
    "    \n",
    "    #vector w\n",
    "    w = np.array([[a], [-1]])\n",
    "    \n",
    "    #vector x1,y1\n",
    "    xx1 = np.array([x1, y1]).reshape(2, -1)\n",
    "    \n",
    "    #vector x2,y2\n",
    "    xx2 = np.array([x2, y2]).reshape(2, -1)\n",
    "    \n",
    "    #calculate the perpendicular distance between the point (x1, y1) and the hyperplane\n",
    "    d1 = np.abs(np.dot(np.transpose(w), xx1) + b)/np.linalg.norm(w)\n",
    "    \n",
    "    #calculate the perpendicular distance between the point (x2, y2) and the hyperplane\n",
    "    d2 = np.abs(np.dot(np.transpose(w), xx2) + b)/np.linalg.norm(w)\n",
    "    \n",
    "    #alpha \n",
    "    alpha1 = (np.dot(np.transpose(w), xx1) + b)/(np.transpose(w) @ w)\n",
    "    alpha2 = (np.dot(np.transpose(w), xx2) + b)/(np.transpose(w) @ w)\n",
    "    \n",
    "    #projection vectors for point 1 and point 2\n",
    "    origin1 = xx1 - alpha1 * w\n",
    "    origin2 = xx2 - alpha2 * w\n",
    "    \n",
    "    #plot the figure\n",
    "    plt.figure(figsize = (6, 6))\n",
    "    x = np.linspace(-10, 10, num=1000)\n",
    "    plt.scatter(x1, y1, s = 50, color = 'r')\n",
    "    plt.scatter(x2, y2, s = 50, color = 'k')\n",
    "    plt.plot(x, a * x + b)\n",
    "    if d1 <= d2:\n",
    "        plt.plot([x1, origin1[0, :]], [y1, origin1[1,:]], color = 'r')     \n",
    "    else:\n",
    "        plt.plot([x2, origin2[0, :]], [y2, origin2[1,:]], color = 'k')\n",
    "        \n",
    "    plt.annotate(f'Distance: {np.round(d1[0][0], 3)}', xy = (-7, 6), fontsize = 18, color = 'r')\n",
    "    plt.annotate(f'Distance: {np.round(d2[0][0], 3)}', xy = (-7, 7), fontsize = 18, color = 'k')\n",
    "    plt.ylim(-8, 8)\n",
    "    plt.xlim(-8, 8)\n",
    "    plt.show()\n",
    "\n",
    "interactive_plot = interactive(plot_margin, x1 = (-2.0, 2.0), y1 = (-5, 5, 0.5), x2 = (-10, 10, 0.5), y2 = (-5, 5, 0.5))\n",
    "\n",
    "interactive_plot"
   ]
  },
  {
   "cell_type": "markdown",
   "id": "d1fff4f2",
   "metadata": {},
   "source": [
    "In the plot above you can see how the margin changes when the coordinates of both data points changes. The margin is the perpendicular distance to the hyperplane from the data point that has the minimum distance."
   ]
  },
  {
   "cell_type": "markdown",
   "id": "54c0e0fb",
   "metadata": {},
   "source": [
    "<u> <font size = '5'> Max Margin Classifier </font> </u>"
   ]
  },
  {
   "cell_type": "markdown",
   "id": "205a9ec0",
   "metadata": {},
   "source": [
    "Type the equations here."
   ]
  },
  {
   "cell_type": "code",
   "execution_count": 17,
   "id": "7695cdd5",
   "metadata": {},
   "outputs": [
    {
     "data": {
      "application/vnd.jupyter.widget-view+json": {
       "model_id": "cf4ae4baa4304456945232c4bbe50be3",
       "version_major": 2,
       "version_minor": 0
      },
      "text/plain": [
       "interactive(children=(FloatSlider(value=0.0, description='a', max=2.0, min=-2.0, step=0.5), FloatSlider(value=…"
      ]
     },
     "metadata": {},
     "output_type": "display_data"
    }
   ],
   "source": [
    "#plotting max margin classifier\n",
    "def plot_max_margin(a, b):\n",
    "    \n",
    "    #sample scatter points for two classes\n",
    "    x_c1 = [2, -4, 0]\n",
    "    y_c1 = [5, 4, 1.5]\n",
    "    x_c2 = [0, 3, -4]\n",
    "    y_c2 = [-2, -2, -3]\n",
    "    \n",
    "    \n",
    "    plt.figure(figsize = (6, 6))\n",
    "    plt.scatter(x_c1, y_c1, s = 50, color = 'red')\n",
    "    plt.scatter(x_c2, y_c2, s = 50, color = 'blue')\n",
    "    x = np.linspace(-10, 10, num=1000)\n",
    "    plt.plot(x, a * x + b)\n",
    "    plt.ylim(-8, 8)\n",
    "    plt.xlim(-8, 8)\n",
    "    plt.show()\n",
    "    \n",
    "interactive_plot = interactive(plot_max_margin, a = (-2.0, 2.0, 0.5), b = (-5, 5, 0.25))\n",
    "interactive_plot"
   ]
  },
  {
   "cell_type": "code",
   "execution_count": null,
   "id": "b9f0b4e5",
   "metadata": {},
   "outputs": [],
   "source": []
  }
 ],
 "metadata": {
  "kernelspec": {
   "display_name": "Python 3",
   "language": "python",
   "name": "python3"
  },
  "language_info": {
   "codemirror_mode": {
    "name": "ipython",
    "version": 3
   },
   "file_extension": ".py",
   "mimetype": "text/x-python",
   "name": "python",
   "nbconvert_exporter": "python",
   "pygments_lexer": "ipython3",
   "version": "3.8.8"
  }
 },
 "nbformat": 4,
 "nbformat_minor": 5
}

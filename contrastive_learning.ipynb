{
  "nbformat": 4,
  "nbformat_minor": 0,
  "metadata": {
    "colab": {
      "name": "contrastive_learning.ipynb",
      "provenance": [],
      "authorship_tag": "ABX9TyPifgK600NwM/TVRFE3VPAz",
      "include_colab_link": true
    },
    "kernelspec": {
      "name": "python3",
      "display_name": "Python 3"
    },
    "language_info": {
      "name": "python"
    }
  },
  "cells": [
    {
      "cell_type": "markdown",
      "metadata": {
        "id": "view-in-github",
        "colab_type": "text"
      },
      "source": [
        "<a href=\"https://colab.research.google.com/github/kaneelgit/ML-DL-Algorithms/blob/main/contrastive_learning.ipynb\" target=\"_parent\"><img src=\"https://colab.research.google.com/assets/colab-badge.svg\" alt=\"Open In Colab\"/></a>"
      ]
    },
    {
      "cell_type": "markdown",
      "metadata": {
        "id": "rlbDDGUQg7xw"
      },
      "source": [
        "<font size = '6'><center> **Contrastive Learning** </center></font>\n",
        "\n",
        "Paper - https://arxiv.org/pdf/2002.05709.pdf"
      ]
    },
    {
      "cell_type": "code",
      "metadata": {
        "id": "w6oS97aZhFox"
      },
      "source": [
        "#import libraries\n",
        "from tensorflow.keras import layers\n",
        "from tensorflow.keras import regularizers\n",
        "import tensorflow as tf\n",
        "\n",
        "import matplotlib.pyplot as plt\n",
        "import numpy as np"
      ],
      "execution_count": 1,
      "outputs": []
    },
    {
      "cell_type": "code",
      "metadata": {
        "id": "eaLGOVcfhhso"
      },
      "source": [
        "#hyperparameters\n",
        "AUTO = tf.data.AUTOTUNE\n",
        "batch_size = 32\n",
        "epochs = 100\n",
        "crop_to = 32\n",
        "random_seed = 26 \n",
        "project_dim = 2048\n",
        "latent_dim = 512\n",
        "weight_decay = 0.0005"
      ],
      "execution_count": 2,
      "outputs": []
    },
    {
      "cell_type": "code",
      "metadata": {
        "id": "qX6sHDW-kMND",
        "outputId": "7667f1d9-e00c-4c0a-d0d4-48bde6e20f87",
        "colab": {
          "base_uri": "https://localhost:8080/"
        }
      },
      "source": [
        "#get the cifar-10 dataset\n",
        "(x_train, y_train), (x_test, y_test) = tf.keras.datasets.cifar10.load_data()\n",
        "\n",
        "print(f'Total training images: {x_train.shape[0]} & Shape of training data: {x_train.shape}')\n",
        "print(f'Total testing images: {x_test.shape[0]} & Shape of testing data: {x_test.shape}')"
      ],
      "execution_count": 6,
      "outputs": [
        {
          "output_type": "stream",
          "name": "stdout",
          "text": [
            "Total training images: 50000 & Shape of training data: (50000, 32, 32, 3)\n",
            "Total testing images: 10000 & Shape of testing data: (10000, 32, 32, 3)\n"
          ]
        }
      ]
    },
    {
      "cell_type": "code",
      "metadata": {
        "id": "i9JZeoBlkURA"
      },
      "source": [
        "#defining a data augmentation pipeline\n",
        "def flip_random_crop(image):\n",
        "\n",
        "  #create random crops\n",
        "  image = tf.image.random_flip_left_right(image)\n",
        "  image = tf.image.random_crop(image, (crop_to, crop_to, 3))\n",
        "\n",
        "  return image\n"
      ],
      "execution_count": 22,
      "outputs": []
    },
    {
      "cell_type": "markdown",
      "metadata": {
        "id": "HtXJJmOdkb2m"
      },
      "source": [
        ""
      ]
    }
  ]
}
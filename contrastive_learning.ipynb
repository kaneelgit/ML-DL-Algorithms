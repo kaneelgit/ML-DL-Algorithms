{
  "nbformat": 4,
  "nbformat_minor": 0,
  "metadata": {
    "colab": {
      "name": "contrastive_learning.ipynb",
      "provenance": [],
      "authorship_tag": "ABX9TyNwD51oDW5QUNCtEXNXLXJX",
      "include_colab_link": true
    },
    "kernelspec": {
      "name": "python3",
      "display_name": "Python 3"
    },
    "language_info": {
      "name": "python"
    }
  },
  "cells": [
    {
      "cell_type": "markdown",
      "metadata": {
        "id": "view-in-github",
        "colab_type": "text"
      },
      "source": [
        "<a href=\"https://colab.research.google.com/github/kaneelgit/ML-DL-Algorithms/blob/main/contrastive_learning.ipynb\" target=\"_parent\"><img src=\"https://colab.research.google.com/assets/colab-badge.svg\" alt=\"Open In Colab\"/></a>"
      ]
    },
    {
      "cell_type": "markdown",
      "metadata": {
        "id": "rlbDDGUQg7xw"
      },
      "source": [
        "<font size = '6'><center> **Contrastive Learning** </center></font>\n",
        "\n",
        "Paper - https://arxiv.org/pdf/2002.05709.pdf"
      ]
    },
    {
      "cell_type": "code",
      "metadata": {
        "id": "w6oS97aZhFox"
      },
      "source": [
        "#import libraries\n",
        "from tensorflow.keras import layers\n",
        "from tensorflow.keras import regularizers\n",
        "import tensorflow as tf\n",
        "\n",
        "import matplotlib.pyplot as plt\n",
        "import numpy as np"
      ],
      "execution_count": 1,
      "outputs": []
    },
    {
      "cell_type": "code",
      "metadata": {
        "id": "eaLGOVcfhhso"
      },
      "source": [
        "#hyperparameters\n",
        "AUTO = tf.data.AUTOTUNE\n",
        "batch_size = 32\n",
        "epochs = 100\n",
        "crop_to = 32\n",
        "img_size = 32\n",
        "random_seed = 26 \n",
        "project_dim = 2048\n",
        "latent_dim = 512\n",
        "weight_decay = 0.0005"
      ],
      "execution_count": 76,
      "outputs": []
    },
    {
      "cell_type": "code",
      "metadata": {
        "id": "qX6sHDW-kMND",
        "colab": {
          "base_uri": "https://localhost:8080/"
        },
        "outputId": "f404f8d9-a93c-4811-90e5-4113085c2086"
      },
      "source": [
        "#get the cifar-10 dataset\n",
        "(X_train, Y_train), (X_test, Y_test) = tf.keras.datasets.cifar10.load_data()\n",
        "\n",
        "print(f'Total training images: {x_train.shape[0]} & Shape of training data: {x_train.shape}')\n",
        "print(f'Total testing images: {x_test.shape[0]} & Shape of testing data: {x_test.shape}')"
      ],
      "execution_count": 43,
      "outputs": [
        {
          "output_type": "stream",
          "name": "stdout",
          "text": [
            "Total training images: 50000 & Shape of training data: (50000, 32, 32, 3)\n",
            "Total testing images: 10000 & Shape of testing data: (10000, 32, 32, 3)\n"
          ]
        }
      ]
    },
    {
      "cell_type": "code",
      "metadata": {
        "id": "i9JZeoBlkURA",
        "outputId": "d64726df-b0b4-4d27-9685-b56ddcea9867",
        "colab": {
          "base_uri": "https://localhost:8080/",
          "height": 377
        }
      },
      "source": [
        "#defining a data augmentation pipeline\n",
        "def flip_and_crop(img):\n",
        "  \"\"\"\n",
        "  this function randomly randomly flip the images and crop them\n",
        "  \"\"\"\n",
        "\n",
        "  #create random crops\n",
        "  img = tf.image.random_flip_left_right(img)\n",
        "  img = tf.image.random_crop(img, (crop_to, crop_to, 3))\n",
        "\n",
        "  return img\n",
        "\n",
        "def color_adjust(img, strength = [0.4, 0.4, 0.4, 0.1]):\n",
        "  \"\"\"\n",
        "  this function randomly changes the brightness, contrast and saturation of the image\n",
        "  \"\"\"\n",
        "  img = tf.image.random_brightness(img, max_delta = 0.8 * strength[0])\n",
        "  img = tf.image.random_contrast(img, lower = 1 - 0.8 * strength[1], upper = 1 + 0.8 * strength[1])\n",
        "  img = tf.image.random_saturation(img, lower = 1 - 0.8 * strength[2], upper = 1 + 0.8 * strength[2])\n",
        "  img = tf.image.random_hue(img, max_delta = 0.2 * strength[3])\n",
        "  img = tf.clip_by_value(img, 0, 255)\n",
        "\n",
        "  return img\n",
        "\n",
        "def color_drop(img):\n",
        "  \"\"\"\n",
        "  drops the color to black and white\n",
        "  \"\"\"\n",
        "  rand_prob = np.random.uniform(0, 1)\n",
        "  color_or_not = np.random.choice([0, 1], p = [rand_prob, 1 - rand_prob])\n",
        "\n",
        "  if color_or_not == 0:\n",
        "    img = img\n",
        "  elif color_or_not == 1:\n",
        "    img = tf.image.rgb_to_grayscale(img)\n",
        "    img = tf.tile(img, [1, 1, 3])\n",
        "  \n",
        "  return img\n",
        "\n",
        "def augment_image(img):\n",
        "  \"\"\"\n",
        "  This function uses the above helper functions to augment images\n",
        "  \"\"\"\n",
        "  img = flip_and_crop(img)\n",
        "  img = color_adjust(img)\n",
        "  img = color_drop(img)\n",
        "\n",
        "  return img\n",
        "\n",
        "\n",
        "\n",
        "plt.figure(figsize = (3, 3))\n",
        "plt.imshow(X_train[100])\n",
        "plt.xticks([])\n",
        "plt.yticks([])\n",
        "plt.show()\n",
        "\n",
        "plt.figure(figsize = (3, 3))\n",
        "plt.imshow(augment_image(X_train[100]))\n",
        "plt.xticks([])\n",
        "plt.yticks([])\n",
        "plt.show()"
      ],
      "execution_count": 114,
      "outputs": [
        {
          "output_type": "display_data",
          "data": {
            "image/png": "[encoded data removed]",
            "text/plain": [
              "<Figure size 216x216 with 1 Axes>"
            ]
          },
          "metadata": {}
        },
        {
          "output_type": "display_data",
          "data": {
            "image/png": "[encoded data removed]",
            "text/plain": [
              "<Figure size 216x216 with 1 Axes>"
            ]
          },
          "metadata": {}
        }
      ]
    },
    {
      "cell_type": "markdown",
      "metadata": {
        "id": "HtXJJmOdkb2m"
      },
      "source": [
        ""
      ]
    }
  ]
}
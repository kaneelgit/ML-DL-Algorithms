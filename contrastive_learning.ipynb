{
  "nbformat": 4,
  "nbformat_minor": 0,
  "metadata": {
    "colab": {
      "name": "contrastive_learning.ipynb",
      "provenance": [],
      "authorship_tag": "ABX9TyMw9bCL1e7+mlnWcfGu6x/H",
      "include_colab_link": true
    },
    "kernelspec": {
      "name": "python3",
      "display_name": "Python 3"
    },
    "language_info": {
      "name": "python"
    }
  },
  "cells": [
    {
      "cell_type": "markdown",
      "metadata": {
        "id": "view-in-github",
        "colab_type": "text"
      },
      "source": [
        "<a href=\"https://colab.research.google.com/github/kaneelgit/ML-DL-Algorithms/blob/main/contrastive_learning.ipynb\" target=\"_parent\"><img src=\"https://colab.research.google.com/assets/colab-badge.svg\" alt=\"Open In Colab\"/></a>"
      ]
    },
    {
      "cell_type": "markdown",
      "metadata": {
        "id": "rlbDDGUQg7xw"
      },
      "source": [
        "<font size = '6'><center> **Contrastive Learning** </center></font>\n",
        "\n",
        "Paper - https://arxiv.org/pdf/2002.05709.pdf"
      ]
    },
    {
      "cell_type": "code",
      "metadata": {
        "id": "w6oS97aZhFox"
      },
      "source": [
        "#import libraries\n",
        "from tensorflow.keras import layers\n",
        "from tensorflow.keras import regularizers\n",
        "import tensorflow as tf\n",
        "from tensorflow import keras\n",
        "from tensorflow.keras.utils import plot_model\n",
        "import tensorflow_datasets as tfds\n",
        "\n",
        "import matplotlib.pyplot as plt\n",
        "import numpy as np"
      ],
      "execution_count": 2,
      "outputs": []
    },
    {
      "cell_type": "code",
      "metadata": {
        "id": "eaLGOVcfhhso"
      },
      "source": [
        "#hyperparameters\n",
        "AUTO = tf.data.AUTOTUNE\n",
        "bs = 32\n",
        "labeled_bs = 32\n",
        "test_bs = 32\n",
        "epochs = 100\n",
        "crop_to = 32\n",
        "img_size = 32\n",
        "random_seed = 26 \n",
        "project_dim = 2048\n",
        "latent_dim = 512\n",
        "weight_decay = 0.0005\n",
        "\n",
        "batch_size = 512\n",
        "\n",
        "contrastive_augmentation = {\"min_area\": 0.25, \"brightness\": 0.6, \"jitter\": 0.2}\n",
        "classification_augmentation = {\"min_area\": 0.75, \"brightness\": 0.3, \"jitter\": 0.1}"
      ],
      "execution_count": 3,
      "outputs": []
    },
    {
      "cell_type": "code",
      "metadata": {
        "id": "qX6sHDW-kMND",
        "colab": {
          "base_uri": "https://localhost:8080/"
        },
        "outputId": "f05ffba9-fb69-432d-bcaa-9a20318f8cd8"
      },
      "source": [
        "#get the cifar-10 dataset\n",
        "(x_train, y_train), (x_test, y_test) = tf.keras.datasets.cifar10.load_data()\n",
        "\n",
        "#normalize\n",
        "x_train = x_train/255\n",
        "x_test = x_test/255\n",
        "\n",
        "#lets devide the test to labeled train and test\n",
        "x_train_labeled = x_test[:5000]\n",
        "y_train_labeled = y_test[:5000]\n",
        "\n",
        "x_test = x_test[5000:]\n",
        "y_test = y_test[5000:]\n",
        "\n",
        "print(f'Total training images: {x_train.shape[0]} & Shape of training data: {x_train.shape}')\n",
        "print(f'Total training labeled images: {x_train_labeled.shape[0]} & Shape of training labeled data: {x_train_labeled.shape}')\n",
        "print(f'Total testing images: {x_test.shape[0]} & Shape of testing data: {x_test.shape}')"
      ],
      "execution_count": 7,
      "outputs": [
        {
          "output_type": "stream",
          "name": "stdout",
          "text": [
            "Total training images: 50000 & Shape of training data: (50000, 32, 32, 3)\n",
            "Total training labeled images: 5000 & Shape of training labeled data: (5000, 32, 32, 3)\n",
            "Total testing images: 5000 & Shape of testing data: (5000, 32, 32, 3)\n"
          ]
        }
      ]
    },
    {
      "cell_type": "code",
      "metadata": {
        "id": "i9JZeoBlkURA"
      },
      "source": [
        "#defining a data augmentation pipeline\n",
        "def flip_and_crop(img):\n",
        "  \"\"\"\n",
        "  this function randomly randomly flip the images and crop them\n",
        "  \"\"\"\n",
        "\n",
        "  #create random crops\n",
        "  img = tf.image.random_flip_left_right(img)\n",
        "  img = tf.image.random_crop(img, (crop_to, crop_to, 3))\n",
        "\n",
        "  return img\n",
        "\n",
        "def color_adjust(img, strength = [0.4, 0.4, 0.4, 0.1]):\n",
        "  \"\"\"\n",
        "  this function randomly changes the brightness, contrast and saturation of the image\n",
        "  \"\"\"\n",
        "  img = tf.image.random_brightness(img, max_delta = 0.8 * strength[0])\n",
        "  img = tf.image.random_contrast(img, lower = 1 - 0.8 * strength[1], upper = 1 + 0.8 * strength[1])\n",
        "  img = tf.image.random_saturation(img, lower = 1 - 0.8 * strength[2], upper = 1 + 0.8 * strength[2])\n",
        "  img = tf.image.random_hue(img, max_delta = 0.2 * strength[3])\n",
        "  img = tf.clip_by_value(img, 0, 255)\n",
        "\n",
        "  return img\n",
        "\n",
        "def color_drop(img):\n",
        "  \"\"\"\n",
        "  drops the color to black and white\n",
        "  \"\"\"\n",
        "  rand_prob = np.random.uniform(0, 1)\n",
        "  color_or_not = np.random.choice([0, 1], p = [rand_prob, 1 - rand_prob])\n",
        "\n",
        "  if color_or_not == 0:\n",
        "    img = img\n",
        "  else:\n",
        "    img = tf.image.rgb_to_grayscale(img)\n",
        "    img = tf.tile(img, [1, 1, 3])\n",
        "  \n",
        "  return img\n",
        "\n",
        "def resize_image(img):\n",
        "  \"\"\"\n",
        "  This function resizes the image to shape (24, 24, 3)\n",
        "  \"\"\"\n",
        "  img = tf.image.resize(img, (24, 24))\n",
        "\n",
        "  return img\n",
        "\n",
        "def random_zoom(img):\n",
        "  #zoom range\n",
        "  zoom_range = (0.4, 0.5)\n",
        "\n",
        "  img = tf.keras.preprocessing.image.random_zoom(\n",
        "    img, zoom_range, row_axis=1, col_axis=2, channel_axis=0,\n",
        "    fill_mode='nearest', cval=0.0, interpolation_order=1\n",
        "  )\n",
        "  return img\n",
        "\n",
        "\n",
        "def augment_image(img, label):\n",
        "  \"\"\"\n",
        "  This function uses the above helper functions to augment images\n",
        "  \"\"\"\n",
        "  img = flip_and_crop(img)\n",
        "  img = color_adjust(img)\n",
        "  img = color_drop(img)\n",
        "  img = resize_image(img)\n",
        "  #img = random_zoom(img)\n",
        "\n",
        "  return img, label\n",
        "\n",
        "def get_augmenter(min_area, brightness, jitter):\n",
        "    zoom_factor = 1.0 - tf.sqrt(min_area)\n",
        "    return keras.Sequential(\n",
        "        [\n",
        "            keras.Input(shape=(image_size, image_size, image_channels)),\n",
        "            layers.Rescaling(1 / 255),\n",
        "            layers.RandomFlip(\"horizontal\"),\n",
        "            layers.RandomTranslation(zoom_factor / 2, zoom_factor / 2),\n",
        "            layers.RandomZoom((-zoom_factor, 0.0), (-zoom_factor, 0.0)),\n",
        "        ]\n",
        "    )"
      ],
      "execution_count": 5,
      "outputs": []
    },
    {
      "cell_type": "code",
      "metadata": {
        "id": "LpMNCyNrHSGf"
      },
      "source": [
        "#class for image audmentations\n",
        "\n",
        "class data_augmentation(object):\n",
        "\n",
        "  def __call__(self, sample):\n",
        "    \n",
        "    sample = self.random_apply(color_jitter, sample, p = 0.8)\n",
        "    sample = self.random_apply(color_drop, sample, p = 0.2)\n",
        "\n",
        "    return sample\n",
        "\n",
        "  def color_jitter(self, s= 1, p = 0.8):\n",
        "\n",
        "    #random choice\n",
        "    choice = np.random.choice([1, 0], p = [p, 1 - p])\n",
        "\n",
        "    if choice == 1:\n",
        "      \n",
        "      x = tf.image.random_brightness(self.img, max_delta = 0.8 * s)\n",
        "      x = tf.image.random_contrast(x, lower = 1 - 0.8 * s, upper = 1 + 0.8 * s)\n",
        "      x = tf.image.random_saturation(x, lower = 1 - 0.8 * s, upper = 1 + 0.8 * s)\n",
        "      x = tf.image.random_hue(x, max_delta = 0.2 * s)\n",
        "      x = tf.clip_by_value(x, 0, 1)\n",
        "    \n",
        "    else:\n",
        "      \n",
        "      x = self.img\n",
        "\n",
        "    return x\n",
        "\n",
        "  def color_drop(self, p = 0.2):\n",
        "    \n",
        "    #random choice\n",
        "    choice = np.random.choice([1, 0], p = [p, 1 - p])\n",
        "    \n",
        "    if choice == 1:\n",
        "\n",
        "      x = tf.image.rgb_to_grayscale(self.img)\n",
        "      x = tf.tile(x, [1, 1, 3])\n",
        "    else:\n",
        "\n",
        "      x = self.img\n",
        "      \n",
        "    return x\n",
        "\n",
        "\n"
      ],
      "execution_count": null,
      "outputs": []
    },
    {
      "cell_type": "code",
      "metadata": {
        "id": "U20j-hJcARxC",
        "outputId": "d765fd84-32b0-487b-d9e5-75fe0bb789da",
        "colab": {
          "base_uri": "https://localhost:8080/"
        }
      },
      "source": [
        "tf.range(10)"
      ],
      "execution_count": 6,
      "outputs": [
        {
          "output_type": "execute_result",
          "data": {
            "text/plain": [
              "<tf.Tensor: shape=(10,), dtype=int32, numpy=array([0, 1, 2, 3, 4, 5, 6, 7, 8, 9], dtype=int32)>"
            ]
          },
          "metadata": {},
          "execution_count": 6
        }
      ]
    },
    {
      "cell_type": "code",
      "metadata": {
        "id": "xJa3MGlfuiob"
      },
      "source": [
        "#create tensorflow dataset objects\n",
        "\n",
        "#create two datasets\n",
        "train_ds_unlabeled = tf.data.Dataset.from_tensor_slices((x_train, y_train))\n",
        "train_ds_unlabeled = (train_ds_unlabeled.shuffle(1024, seed = random_seed).batch(bs).prefetch(AUTO))\n",
        "\n",
        "train_ds_labeled = tf.data.Dataset.from_tensor_slices((x_train_labeled, y_train_labeled))\n",
        "train_ds_labeled = (train_ds_labeled.shuffle(1024, seed = random_seed).batch(batch_size).prefetch(AUTO))\n"
      ],
      "execution_count": null,
      "outputs": []
    },
    {
      "cell_type": "code",
      "metadata": {
        "id": "ykupJlN8-3Jj",
        "colab": {
          "base_uri": "https://localhost:8080/",
          "height": 322
        },
        "outputId": "9a678226-1699-42c6-a188-a2648ae483f9"
      },
      "source": [
        "samp, lab = next(iter(train_ds_unlabeled))\n",
        "\n",
        "aug_im = zip(samp, get_augmenter(**classification_augmentation)(samp))"
      ],
      "execution_count": null,
      "outputs": [
        {
          "output_type": "error",
          "ename": "NameError",
          "evalue": "ignored",
          "traceback": [
            "\u001b[0;31m---------------------------------------------------------------------------\u001b[0m",
            "\u001b[0;31mNameError\u001b[0m                                 Traceback (most recent call last)",
            "\u001b[0;32m<ipython-input-41-91ede19198ad>\u001b[0m in \u001b[0;36m<module>\u001b[0;34m()\u001b[0m\n\u001b[1;32m      1\u001b[0m \u001b[0msamp\u001b[0m\u001b[0;34m,\u001b[0m \u001b[0mlab\u001b[0m \u001b[0;34m=\u001b[0m \u001b[0mnext\u001b[0m\u001b[0;34m(\u001b[0m\u001b[0miter\u001b[0m\u001b[0;34m(\u001b[0m\u001b[0mtrain_ds_unlabeled\u001b[0m\u001b[0;34m)\u001b[0m\u001b[0;34m)\u001b[0m\u001b[0;34m\u001b[0m\u001b[0;34m\u001b[0m\u001b[0m\n\u001b[1;32m      2\u001b[0m \u001b[0;34m\u001b[0m\u001b[0m\n\u001b[0;32m----> 3\u001b[0;31m \u001b[0maug_im\u001b[0m \u001b[0;34m=\u001b[0m \u001b[0mzip\u001b[0m\u001b[0;34m(\u001b[0m\u001b[0msamp\u001b[0m\u001b[0;34m,\u001b[0m \u001b[0mget_augmenter\u001b[0m\u001b[0;34m(\u001b[0m\u001b[0;34m**\u001b[0m\u001b[0mclassification_augmentation\u001b[0m\u001b[0;34m)\u001b[0m\u001b[0;34m(\u001b[0m\u001b[0msamp\u001b[0m\u001b[0;34m)\u001b[0m\u001b[0;34m)\u001b[0m\u001b[0;34m\u001b[0m\u001b[0;34m\u001b[0m\u001b[0m\n\u001b[0m",
            "\u001b[0;32m<ipython-input-30-8a52a5f33b42>\u001b[0m in \u001b[0;36mget_augmenter\u001b[0;34m(min_area, brightness, jitter)\u001b[0m\n\u001b[1;32m     73\u001b[0m     return keras.Sequential(\n\u001b[1;32m     74\u001b[0m         [\n\u001b[0;32m---> 75\u001b[0;31m             \u001b[0mkeras\u001b[0m\u001b[0;34m.\u001b[0m\u001b[0mInput\u001b[0m\u001b[0;34m(\u001b[0m\u001b[0mshape\u001b[0m\u001b[0;34m=\u001b[0m\u001b[0;34m(\u001b[0m\u001b[0mimage_size\u001b[0m\u001b[0;34m,\u001b[0m \u001b[0mimage_size\u001b[0m\u001b[0;34m,\u001b[0m \u001b[0mimage_channels\u001b[0m\u001b[0;34m)\u001b[0m\u001b[0;34m)\u001b[0m\u001b[0;34m,\u001b[0m\u001b[0;34m\u001b[0m\u001b[0;34m\u001b[0m\u001b[0m\n\u001b[0m\u001b[1;32m     76\u001b[0m             \u001b[0mlayers\u001b[0m\u001b[0;34m.\u001b[0m\u001b[0mRescaling\u001b[0m\u001b[0;34m(\u001b[0m\u001b[0;36m1\u001b[0m \u001b[0;34m/\u001b[0m \u001b[0;36m255\u001b[0m\u001b[0;34m)\u001b[0m\u001b[0;34m,\u001b[0m\u001b[0;34m\u001b[0m\u001b[0;34m\u001b[0m\u001b[0m\n\u001b[1;32m     77\u001b[0m             \u001b[0mlayers\u001b[0m\u001b[0;34m.\u001b[0m\u001b[0mRandomFlip\u001b[0m\u001b[0;34m(\u001b[0m\u001b[0;34m\"horizontal\"\u001b[0m\u001b[0;34m)\u001b[0m\u001b[0;34m,\u001b[0m\u001b[0;34m\u001b[0m\u001b[0;34m\u001b[0m\u001b[0m\n",
            "\u001b[0;31mNameError\u001b[0m: name 'image_size' is not defined"
          ]
        }
      ]
    },
    {
      "cell_type": "code",
      "metadata": {
        "id": "OkE1LcFAvUnL",
        "colab": {
          "base_uri": "https://localhost:8080/",
          "height": 498
        },
        "outputId": "66139f4f-b827-42a1-f375-959bf68d61fa"
      },
      "source": [
        "#plot some sample images from both datasets\n",
        "sample_img_one = next(iter(train_ds_unlabeled))\n",
        "print('Sample image set one')\n",
        "\n",
        "plt.figure(figsize = (7, 7))\n",
        "\n",
        "for n in range(25):\n",
        "  ax = plt.subplot(5, 5, n + 1)\n",
        "  plt.imshow(sample_img_one[n].numpy().astype('int'))\n",
        "  plt.axis('off')\n",
        "plt.show()\n",
        "\n",
        "#second dataset\n",
        "sample_img_two = next(iter(train_ds_two))\n",
        "print('Sample image set two')\n",
        "\n",
        "plt.figure(figsize = (7, 7))\n",
        "plt.title('Sample image set 2')\n",
        "\n",
        "for n in range(25):\n",
        "  ax = plt.subplot(5, 5, n + 1)\n",
        "  plt.imshow(sample_img_two[n].numpy().astype('int'))\n",
        "  plt.axis('off')\n",
        "plt.show()"
      ],
      "execution_count": null,
      "outputs": [
        {
          "output_type": "stream",
          "name": "stdout",
          "text": [
            "Sample image set one\n"
          ]
        },
        {
          "output_type": "error",
          "ename": "TypeError",
          "evalue": "ignored",
          "traceback": [
            "\u001b[0;31m---------------------------------------------------------------------------\u001b[0m",
            "\u001b[0;31mTypeError\u001b[0m                                 Traceback (most recent call last)",
            "\u001b[0;32m<ipython-input-33-156b9bc70528>\u001b[0m in \u001b[0;36m<module>\u001b[0;34m()\u001b[0m\n\u001b[1;32m      7\u001b[0m \u001b[0;32mfor\u001b[0m \u001b[0mn\u001b[0m \u001b[0;32min\u001b[0m \u001b[0mrange\u001b[0m\u001b[0;34m(\u001b[0m\u001b[0;36m25\u001b[0m\u001b[0;34m)\u001b[0m\u001b[0;34m:\u001b[0m\u001b[0;34m\u001b[0m\u001b[0;34m\u001b[0m\u001b[0m\n\u001b[1;32m      8\u001b[0m   \u001b[0max\u001b[0m \u001b[0;34m=\u001b[0m \u001b[0mplt\u001b[0m\u001b[0;34m.\u001b[0m\u001b[0msubplot\u001b[0m\u001b[0;34m(\u001b[0m\u001b[0;36m5\u001b[0m\u001b[0;34m,\u001b[0m \u001b[0;36m5\u001b[0m\u001b[0;34m,\u001b[0m \u001b[0mn\u001b[0m \u001b[0;34m+\u001b[0m \u001b[0;36m1\u001b[0m\u001b[0;34m)\u001b[0m\u001b[0;34m\u001b[0m\u001b[0;34m\u001b[0m\u001b[0m\n\u001b[0;32m----> 9\u001b[0;31m   \u001b[0mplt\u001b[0m\u001b[0;34m.\u001b[0m\u001b[0mimshow\u001b[0m\u001b[0;34m(\u001b[0m\u001b[0msample_img_one\u001b[0m\u001b[0;34m[\u001b[0m\u001b[0mn\u001b[0m\u001b[0;34m]\u001b[0m\u001b[0;34m.\u001b[0m\u001b[0mnumpy\u001b[0m\u001b[0;34m(\u001b[0m\u001b[0;34m)\u001b[0m\u001b[0;34m.\u001b[0m\u001b[0mastype\u001b[0m\u001b[0;34m(\u001b[0m\u001b[0;34m'int'\u001b[0m\u001b[0;34m)\u001b[0m\u001b[0;34m)\u001b[0m\u001b[0;34m\u001b[0m\u001b[0;34m\u001b[0m\u001b[0m\n\u001b[0m\u001b[1;32m     10\u001b[0m   \u001b[0mplt\u001b[0m\u001b[0;34m.\u001b[0m\u001b[0maxis\u001b[0m\u001b[0;34m(\u001b[0m\u001b[0;34m'off'\u001b[0m\u001b[0;34m)\u001b[0m\u001b[0;34m\u001b[0m\u001b[0;34m\u001b[0m\u001b[0m\n\u001b[1;32m     11\u001b[0m \u001b[0mplt\u001b[0m\u001b[0;34m.\u001b[0m\u001b[0mshow\u001b[0m\u001b[0;34m(\u001b[0m\u001b[0;34m)\u001b[0m\u001b[0;34m\u001b[0m\u001b[0;34m\u001b[0m\u001b[0m\n",
            "\u001b[0;32m/usr/local/lib/python3.7/dist-packages/matplotlib/pyplot.py\u001b[0m in \u001b[0;36mimshow\u001b[0;34m(X, cmap, norm, aspect, interpolation, alpha, vmin, vmax, origin, extent, shape, filternorm, filterrad, imlim, resample, url, data, **kwargs)\u001b[0m\n\u001b[1;32m   2649\u001b[0m         \u001b[0mfilternorm\u001b[0m\u001b[0;34m=\u001b[0m\u001b[0mfilternorm\u001b[0m\u001b[0;34m,\u001b[0m \u001b[0mfilterrad\u001b[0m\u001b[0;34m=\u001b[0m\u001b[0mfilterrad\u001b[0m\u001b[0;34m,\u001b[0m \u001b[0mimlim\u001b[0m\u001b[0;34m=\u001b[0m\u001b[0mimlim\u001b[0m\u001b[0;34m,\u001b[0m\u001b[0;34m\u001b[0m\u001b[0;34m\u001b[0m\u001b[0m\n\u001b[1;32m   2650\u001b[0m         resample=resample, url=url, **({\"data\": data} if data is not\n\u001b[0;32m-> 2651\u001b[0;31m         None else {}), **kwargs)\n\u001b[0m\u001b[1;32m   2652\u001b[0m     \u001b[0msci\u001b[0m\u001b[0;34m(\u001b[0m\u001b[0m__ret\u001b[0m\u001b[0;34m)\u001b[0m\u001b[0;34m\u001b[0m\u001b[0;34m\u001b[0m\u001b[0m\n\u001b[1;32m   2653\u001b[0m     \u001b[0;32mreturn\u001b[0m \u001b[0m__ret\u001b[0m\u001b[0;34m\u001b[0m\u001b[0;34m\u001b[0m\u001b[0m\n",
            "\u001b[0;32m/usr/local/lib/python3.7/dist-packages/matplotlib/__init__.py\u001b[0m in \u001b[0;36minner\u001b[0;34m(ax, data, *args, **kwargs)\u001b[0m\n\u001b[1;32m   1563\u001b[0m     \u001b[0;32mdef\u001b[0m \u001b[0minner\u001b[0m\u001b[0;34m(\u001b[0m\u001b[0max\u001b[0m\u001b[0;34m,\u001b[0m \u001b[0;34m*\u001b[0m\u001b[0margs\u001b[0m\u001b[0;34m,\u001b[0m \u001b[0mdata\u001b[0m\u001b[0;34m=\u001b[0m\u001b[0;32mNone\u001b[0m\u001b[0;34m,\u001b[0m \u001b[0;34m**\u001b[0m\u001b[0mkwargs\u001b[0m\u001b[0;34m)\u001b[0m\u001b[0;34m:\u001b[0m\u001b[0;34m\u001b[0m\u001b[0;34m\u001b[0m\u001b[0m\n\u001b[1;32m   1564\u001b[0m         \u001b[0;32mif\u001b[0m \u001b[0mdata\u001b[0m \u001b[0;32mis\u001b[0m \u001b[0;32mNone\u001b[0m\u001b[0;34m:\u001b[0m\u001b[0;34m\u001b[0m\u001b[0;34m\u001b[0m\u001b[0m\n\u001b[0;32m-> 1565\u001b[0;31m             \u001b[0;32mreturn\u001b[0m \u001b[0mfunc\u001b[0m\u001b[0;34m(\u001b[0m\u001b[0max\u001b[0m\u001b[0;34m,\u001b[0m \u001b[0;34m*\u001b[0m\u001b[0mmap\u001b[0m\u001b[0;34m(\u001b[0m\u001b[0msanitize_sequence\u001b[0m\u001b[0;34m,\u001b[0m \u001b[0margs\u001b[0m\u001b[0;34m)\u001b[0m\u001b[0;34m,\u001b[0m \u001b[0;34m**\u001b[0m\u001b[0mkwargs\u001b[0m\u001b[0;34m)\u001b[0m\u001b[0;34m\u001b[0m\u001b[0;34m\u001b[0m\u001b[0m\n\u001b[0m\u001b[1;32m   1566\u001b[0m \u001b[0;34m\u001b[0m\u001b[0m\n\u001b[1;32m   1567\u001b[0m         \u001b[0mbound\u001b[0m \u001b[0;34m=\u001b[0m \u001b[0mnew_sig\u001b[0m\u001b[0;34m.\u001b[0m\u001b[0mbind\u001b[0m\u001b[0;34m(\u001b[0m\u001b[0max\u001b[0m\u001b[0;34m,\u001b[0m \u001b[0;34m*\u001b[0m\u001b[0margs\u001b[0m\u001b[0;34m,\u001b[0m \u001b[0;34m**\u001b[0m\u001b[0mkwargs\u001b[0m\u001b[0;34m)\u001b[0m\u001b[0;34m\u001b[0m\u001b[0;34m\u001b[0m\u001b[0m\n",
            "\u001b[0;32m/usr/local/lib/python3.7/dist-packages/matplotlib/cbook/deprecation.py\u001b[0m in \u001b[0;36mwrapper\u001b[0;34m(*args, **kwargs)\u001b[0m\n\u001b[1;32m    356\u001b[0m                 \u001b[0;34mf\"%(removal)s.  If any parameter follows {name!r}, they \"\u001b[0m\u001b[0;34m\u001b[0m\u001b[0;34m\u001b[0m\u001b[0m\n\u001b[1;32m    357\u001b[0m                 f\"should be pass as keyword, not positionally.\")\n\u001b[0;32m--> 358\u001b[0;31m         \u001b[0;32mreturn\u001b[0m \u001b[0mfunc\u001b[0m\u001b[0;34m(\u001b[0m\u001b[0;34m*\u001b[0m\u001b[0margs\u001b[0m\u001b[0;34m,\u001b[0m \u001b[0;34m**\u001b[0m\u001b[0mkwargs\u001b[0m\u001b[0;34m)\u001b[0m\u001b[0;34m\u001b[0m\u001b[0;34m\u001b[0m\u001b[0m\n\u001b[0m\u001b[1;32m    359\u001b[0m \u001b[0;34m\u001b[0m\u001b[0m\n\u001b[1;32m    360\u001b[0m     \u001b[0;32mreturn\u001b[0m \u001b[0mwrapper\u001b[0m\u001b[0;34m\u001b[0m\u001b[0;34m\u001b[0m\u001b[0m\n",
            "\u001b[0;32m/usr/local/lib/python3.7/dist-packages/matplotlib/cbook/deprecation.py\u001b[0m in \u001b[0;36mwrapper\u001b[0;34m(*args, **kwargs)\u001b[0m\n\u001b[1;32m    356\u001b[0m                 \u001b[0;34mf\"%(removal)s.  If any parameter follows {name!r}, they \"\u001b[0m\u001b[0;34m\u001b[0m\u001b[0;34m\u001b[0m\u001b[0m\n\u001b[1;32m    357\u001b[0m                 f\"should be pass as keyword, not positionally.\")\n\u001b[0;32m--> 358\u001b[0;31m         \u001b[0;32mreturn\u001b[0m \u001b[0mfunc\u001b[0m\u001b[0;34m(\u001b[0m\u001b[0;34m*\u001b[0m\u001b[0margs\u001b[0m\u001b[0;34m,\u001b[0m \u001b[0;34m**\u001b[0m\u001b[0mkwargs\u001b[0m\u001b[0;34m)\u001b[0m\u001b[0;34m\u001b[0m\u001b[0;34m\u001b[0m\u001b[0m\n\u001b[0m\u001b[1;32m    359\u001b[0m \u001b[0;34m\u001b[0m\u001b[0m\n\u001b[1;32m    360\u001b[0m     \u001b[0;32mreturn\u001b[0m \u001b[0mwrapper\u001b[0m\u001b[0;34m\u001b[0m\u001b[0;34m\u001b[0m\u001b[0m\n",
            "\u001b[0;32m/usr/local/lib/python3.7/dist-packages/matplotlib/axes/_axes.py\u001b[0m in \u001b[0;36mimshow\u001b[0;34m(self, X, cmap, norm, aspect, interpolation, alpha, vmin, vmax, origin, extent, shape, filternorm, filterrad, imlim, resample, url, **kwargs)\u001b[0m\n\u001b[1;32m   5624\u001b[0m                               resample=resample, **kwargs)\n\u001b[1;32m   5625\u001b[0m \u001b[0;34m\u001b[0m\u001b[0m\n\u001b[0;32m-> 5626\u001b[0;31m         \u001b[0mim\u001b[0m\u001b[0;34m.\u001b[0m\u001b[0mset_data\u001b[0m\u001b[0;34m(\u001b[0m\u001b[0mX\u001b[0m\u001b[0;34m)\u001b[0m\u001b[0;34m\u001b[0m\u001b[0;34m\u001b[0m\u001b[0m\n\u001b[0m\u001b[1;32m   5627\u001b[0m         \u001b[0mim\u001b[0m\u001b[0;34m.\u001b[0m\u001b[0mset_alpha\u001b[0m\u001b[0;34m(\u001b[0m\u001b[0malpha\u001b[0m\u001b[0;34m)\u001b[0m\u001b[0;34m\u001b[0m\u001b[0;34m\u001b[0m\u001b[0m\n\u001b[1;32m   5628\u001b[0m         \u001b[0;32mif\u001b[0m \u001b[0mim\u001b[0m\u001b[0;34m.\u001b[0m\u001b[0mget_clip_path\u001b[0m\u001b[0;34m(\u001b[0m\u001b[0;34m)\u001b[0m \u001b[0;32mis\u001b[0m \u001b[0;32mNone\u001b[0m\u001b[0;34m:\u001b[0m\u001b[0;34m\u001b[0m\u001b[0;34m\u001b[0m\u001b[0m\n",
            "\u001b[0;32m/usr/local/lib/python3.7/dist-packages/matplotlib/image.py\u001b[0m in \u001b[0;36mset_data\u001b[0;34m(self, A)\u001b[0m\n\u001b[1;32m    697\u001b[0m                 or self._A.ndim == 3 and self._A.shape[-1] in [3, 4]):\n\u001b[1;32m    698\u001b[0m             raise TypeError(\"Invalid shape {} for image data\"\n\u001b[0;32m--> 699\u001b[0;31m                             .format(self._A.shape))\n\u001b[0m\u001b[1;32m    700\u001b[0m \u001b[0;34m\u001b[0m\u001b[0m\n\u001b[1;32m    701\u001b[0m         \u001b[0;32mif\u001b[0m \u001b[0mself\u001b[0m\u001b[0;34m.\u001b[0m\u001b[0m_A\u001b[0m\u001b[0;34m.\u001b[0m\u001b[0mndim\u001b[0m \u001b[0;34m==\u001b[0m \u001b[0;36m3\u001b[0m\u001b[0;34m:\u001b[0m\u001b[0;34m\u001b[0m\u001b[0;34m\u001b[0m\u001b[0m\n",
            "\u001b[0;31mTypeError\u001b[0m: Invalid shape (32, 32, 32, 3) for image data"
          ]
        },
        {
          "output_type": "display_data",
          "data": {
            "image/png": "[encoded data removed]",
            "text/plain": [
              "<Figure size 504x504 with 1 Axes>"
            ]
          },
          "metadata": {
            "needs_background": "light"
          }
        }
      ]
    },
    {
      "cell_type": "code",
      "metadata": {
        "id": "GQl3dVu26XTx"
      },
      "source": [
        "#build the residual block \n",
        "def residual_block(input_data, filters, kernel_size):\n",
        "  x = layers.Conv2D(filters, kernel_size, activation = 'relu', padding = 'same')(input_data)\n",
        "  x = layers.BatchNormalization()(x)\n",
        "  x = layers.Conv2D(filters, kernel_size, activation = 'relu', padding = 'same')(x)\n",
        "  x = layers.BatchNormalization()(x)\n",
        "  x = layers.Add()([x, input_data]) #residual connection\n",
        "  x = layers.Activation('relu')(x)\n",
        "  return x\n",
        "\n",
        "#build the projection head\n",
        "\n",
        "def encoder_network():\n",
        "  #inputs\n",
        "  inputs = keras.Input(shape = (24, 24, 3))\n",
        "  x = layers.Conv2D(32, 3, activation = 'relu')(inputs)\n",
        "  x = layers.Conv2D(64, 3, activation = 'relu')(x)\n",
        "\n",
        "  #repeated residual blocks\n",
        "  for i in range(10):\n",
        "    x = residual_block(x, 64, 3)\n",
        "\n",
        "  x = layers.Conv2D(64, 3, activation = 'relu')(x)\n",
        "  outputs = layers.AveragePooling2D()(x)\n",
        "  \n",
        "  return keras.Model(inputs, outputs)\n",
        "\n",
        "#create the resnet ()\n",
        "cfar10_resnet_model = encoder_network()"
      ],
      "execution_count": null,
      "outputs": []
    },
    {
      "cell_type": "code",
      "metadata": {
        "id": "dwvxlN2V6ZHn"
      },
      "source": [
        "#plot the model\n",
        "plot_model(cfar10_resnet_model, expand_nested = True)"
      ],
      "execution_count": null,
      "outputs": []
    },
    {
      "cell_type": "code",
      "metadata": {
        "id": "qmU_UMMn6dBc"
      },
      "source": [
        "#model summary \n",
        "cfar10_resnet_model.summary()"
      ],
      "execution_count": null,
      "outputs": []
    },
    {
      "cell_type": "code",
      "metadata": {
        "id": "q2kWgYOXpS3i"
      },
      "source": [
        "#create the projection head\n",
        "def projection_head():\n",
        "\n",
        "  inputs = keras.Input(shape = (9, 9, 64))\n",
        "  x = layers.Dense(256, activation = 'relu')(inputs)\n",
        "  outputs = layers.Dense(10, activation = 'softmax')(x)\n",
        "\n",
        "  return keras.Model(inputs, outputs)\n",
        "\n",
        "cfar10_projection_head = projection_head()"
      ],
      "execution_count": null,
      "outputs": []
    },
    {
      "cell_type": "code",
      "metadata": {
        "id": "r77P0JEB3MUM"
      },
      "source": [
        "#create the loss function\n",
        "def compute_loss(i, j, tau = 0.1):\n",
        "\n",
        "  #do the calculations\n",
        "  num = tf.tensordot(tf.math.transpose(i), j)\n",
        "  den = tf.math.l2_normalize(i, axis = 1) * tf.math.l2_normalize(j, axis = 1)\n",
        "\n",
        "  #similarity value\n",
        "  sim = num/den \n",
        "\n",
        "  #calculate positive pair loss\n",
        "  l_ij = \n"
      ],
      "execution_count": null,
      "outputs": []
    },
    {
      "cell_type": "code",
      "metadata": {
        "id": "Ga7c4vHU25Zn"
      },
      "source": [
        "#create the SIMCLR model"
      ],
      "execution_count": null,
      "outputs": []
    }
  ]
}
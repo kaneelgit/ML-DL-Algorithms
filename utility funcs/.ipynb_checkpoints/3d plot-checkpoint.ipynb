{
 "cells": [
  {
   "cell_type": "code",
   "execution_count": 1,
   "id": "5fa35c82",
   "metadata": {},
   "outputs": [
    {
     "ename": "NameError",
     "evalue": "name 'list_b' is not defined",
     "output_type": "error",
     "traceback": [
      "\u001b[1;31m---------------------------------------------------------------------------\u001b[0m",
      "\u001b[1;31mNameError\u001b[0m                                 Traceback (most recent call last)",
      "\u001b[1;32m<ipython-input-1-20195be5ca61>\u001b[0m in \u001b[0;36m<module>\u001b[1;34m\u001b[0m\n\u001b[0;32m      4\u001b[0m \u001b[1;33m\u001b[0m\u001b[0m\n\u001b[0;32m      5\u001b[0m \u001b[0mdf\u001b[0m \u001b[1;33m=\u001b[0m \u001b[0mpd\u001b[0m\u001b[1;33m.\u001b[0m\u001b[0mDataFrame\u001b[0m\u001b[1;33m(\u001b[0m\u001b[1;33m)\u001b[0m\u001b[1;33m\u001b[0m\u001b[1;33m\u001b[0m\u001b[0m\n\u001b[1;32m----> 6\u001b[1;33m \u001b[0mdf\u001b[0m\u001b[1;33m[\u001b[0m\u001b[1;34m'b'\u001b[0m\u001b[1;33m]\u001b[0m \u001b[1;33m=\u001b[0m \u001b[0mlist_b\u001b[0m\u001b[1;33m\u001b[0m\u001b[1;33m\u001b[0m\u001b[0m\n\u001b[0m\u001b[0;32m      7\u001b[0m \u001b[0mdf\u001b[0m\u001b[1;33m[\u001b[0m\u001b[1;34m'c'\u001b[0m\u001b[1;33m]\u001b[0m \u001b[1;33m=\u001b[0m \u001b[0mlist_c\u001b[0m\u001b[1;33m\u001b[0m\u001b[1;33m\u001b[0m\u001b[0m\n\u001b[0;32m      8\u001b[0m \u001b[0mdf\u001b[0m\u001b[1;33m[\u001b[0m\u001b[1;34m'loss'\u001b[0m\u001b[1;33m]\u001b[0m \u001b[1;33m=\u001b[0m \u001b[0mlosses\u001b[0m\u001b[1;33m\u001b[0m\u001b[1;33m\u001b[0m\u001b[0m\n",
      "\u001b[1;31mNameError\u001b[0m: name 'list_b' is not defined"
     ]
    }
   ],
   "source": [
    "from matplotlib.animation import FuncAnimation\n",
    "import pandas as pd\n",
    "from mpl_toolkits.mplot3d import Axes3D\n",
    "\n",
    "df = pd.DataFrame()\n",
    "df['b'] = list_b\n",
    "df['c'] = list_c\n",
    "df['loss'] = losses\n",
    "\n",
    "fig = plt.figure(figsize = (10, 10))\n",
    "ax = fig.add_subplot(111, projection = '3d')\n",
    "ax.plot_surface(b_vals, c_vals, loss_vals, alpha = 0.3)\n",
    "sc = ax.scatter([], [], [], color = 'r', s = 400)\n",
    "\n",
    "def update(i): \n",
    "    \n",
    "    sc._offsets3d = (df.b.values[:i], df.c.values[:i], df.loss.values[:i])\n",
    "\n",
    "ax.set_xlim(-5,10)\n",
    "ax.set_ylim(2,20)\n",
    "ax.set_zlim(0,200)\n",
    "\n",
    "ax.set_xlabel('b', fontsize = 20)\n",
    "ax.set_ylabel('c', fontsize = 20)\n",
    "ax.set_zlabel('loss', fontsize = 20)\n",
    "ax.set_title('Gradient Descent', fontsize = 25)\n",
    "\n",
    "\n",
    "plt.tight_layout()\n",
    "plt.show()\n",
    "    \n",
    "ani = FuncAnimation(fig, update, frames = len(df), interval = 500)\n",
    "\n",
    "ani.save('gradient_descent.gif', writer = 'imagemagick', fps = 60)"
   ]
  },
  {
   "cell_type": "code",
   "execution_count": null,
   "id": "b32fc3de",
   "metadata": {},
   "outputs": [],
   "source": []
  }
 ],
 "metadata": {
  "kernelspec": {
   "display_name": "Python 3",
   "language": "python",
   "name": "python3"
  },
  "language_info": {
   "codemirror_mode": {
    "name": "ipython",
    "version": 3
   },
   "file_extension": ".py",
   "mimetype": "text/x-python",
   "name": "python",
   "nbconvert_exporter": "python",
   "pygments_lexer": "ipython3",
   "version": "3.8.8"
  }
 },
 "nbformat": 4,
 "nbformat_minor": 5
}
